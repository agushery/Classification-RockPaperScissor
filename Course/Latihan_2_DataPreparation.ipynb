{
  "nbformat": 4,
  "nbformat_minor": 0,
  "metadata": {
    "colab": {
      "name": "Latihan-2-DataPreparation.ipynb",
      "provenance": [],
      "collapsed_sections": []
    },
    "kernelspec": {
      "name": "python3",
      "display_name": "Python 3"
    },
    "language_info": {
      "name": "python"
    }
  },
  "cells": [
    {
      "cell_type": "markdown",
      "metadata": {
        "id": "wjPV7f-RBtZ-"
      },
      "source": [
        "#**Data Preparation dengan Normalization dan Standardization**"
      ]
    },
    {
      "cell_type": "markdown",
      "metadata": {
        "id": "AePA-QJPB8n3"
      },
      "source": [
        "### Normalization with MinMaxScaler\n",
        "\n"
      ]
    },
    {
      "cell_type": "code",
      "metadata": {
        "id": "OXlmQ9tiCMEg"
      },
      "source": [
        "#import library MinMAxScaler\n",
        "from sklearn.preprocessing import MinMaxScaler\n",
        "data = [[12000000, 33], [35000000, 45], [4000000, 23], [6500000, 26], [9000000, 29]]"
      ],
      "execution_count": 5,
      "outputs": []
    },
    {
      "cell_type": "code",
      "metadata": {
        "colab": {
          "base_uri": "https://localhost:8080/"
        },
        "id": "yW0S9qosCk_V",
        "outputId": "4cec5ae8-c6b5-4401-af89-96686ec55b24"
      },
      "source": [
        "#initiation MinMaxScaler object\n",
        "scaler = MinMaxScaler()\n",
        "#initiation fit function from MinMaxScaler for count min and max each column from data\n",
        "scaler.fit(data)"
      ],
      "execution_count": 6,
      "outputs": [
        {
          "output_type": "execute_result",
          "data": {
            "text/plain": [
              "MinMaxScaler(copy=True, feature_range=(0, 1))"
            ]
          },
          "metadata": {
            "tags": []
          },
          "execution_count": 6
        }
      ]
    },
    {
      "cell_type": "code",
      "metadata": {
        "colab": {
          "base_uri": "https://localhost:8080/"
        },
        "id": "mpNlnJPIDQEM",
        "outputId": "54e804c0-a8e8-46c0-a21c-4c1f13702d54"
      },
      "source": [
        "#intiation transform function for implementation scaler data\n",
        "print(scaler.transform(data))"
      ],
      "execution_count": 7,
      "outputs": [
        {
          "output_type": "stream",
          "text": [
            "[[0.25806452 0.45454545]\n",
            " [1.         1.        ]\n",
            " [0.         0.        ]\n",
            " [0.08064516 0.13636364]\n",
            " [0.16129032 0.27272727]]\n"
          ],
          "name": "stdout"
        }
      ]
    },
    {
      "cell_type": "markdown",
      "metadata": {
        "id": "tVBz0L1nDuQz"
      },
      "source": [
        ""
      ]
    },
    {
      "cell_type": "markdown",
      "metadata": {
        "id": "osWep3SxD3zc"
      },
      "source": [
        "## Standardization"
      ]
    },
    {
      "cell_type": "markdown",
      "metadata": {
        "id": "df3cAA13ECyu"
      },
      "source": [
        "Standardization adalah proses konversi nilai-nilai dari suatu fitur sehingga nilai-nilai tersebut memiliki skala yang sama. Z score adalah metode paling populer untuk standardisasi di mana setiap nilai pada sebuah atribut numerik akan dikurangi dengan rata-rata dan dibagi dengan standar deviasi dari seluruh nilai pada sebuah kolom atribut."
      ]
    },
    {
      "cell_type": "code",
      "metadata": {
        "id": "HL7btTBDEYWB"
      },
      "source": [
        "#import modul from library\n",
        "from sklearn import preprocessing"
      ],
      "execution_count": 9,
      "outputs": []
    },
    {
      "cell_type": "markdown",
      "metadata": {
        "id": "ldT5vkj-FY8Y"
      },
      "source": [
        "Selanjutnya kita buat object scaler dan panggil fungsi fit dari scaler pada data. Fungsi fit memiliki fungsi untuk menghitung rata-rata dan deviasi standar dari setiap kolom atribut untuk kemudian dipakai pada fungsi transform."
      ]
    },
    {
      "cell_type": "code",
      "metadata": {
        "id": "6_39_T2bFbgr"
      },
      "source": [
        "standardScaler = preprocessing.StandardScaler().fit(data)"
      ],
      "execution_count": 10,
      "outputs": []
    },
    {
      "cell_type": "code",
      "metadata": {
        "colab": {
          "base_uri": "https://localhost:8080/"
        },
        "id": "AQFgWCwuFmwm",
        "outputId": "d9e2155c-b51c-441f-880c-bcbc6ef1930e"
      },
      "source": [
        "data = scaler.transform(data)\n",
        "data"
      ],
      "execution_count": 12,
      "outputs": [
        {
          "output_type": "execute_result",
          "data": {
            "text/plain": [
              "array([[-0.12903225, -1.02479339],\n",
              "       [-0.12903223, -1.        ],\n",
              "       [-0.12903226, -1.04545455],\n",
              "       [-0.12903226, -1.0392562 ],\n",
              "       [-0.12903225, -1.03305785]])"
            ]
          },
          "metadata": {
            "tags": []
          },
          "execution_count": 12
        }
      ]
    }
  ]
}