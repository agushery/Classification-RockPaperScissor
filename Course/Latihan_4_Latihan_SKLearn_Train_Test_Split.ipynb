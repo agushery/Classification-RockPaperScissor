{
  "nbformat": 4,
  "nbformat_minor": 0,
  "metadata": {
    "colab": {
      "name": "Latihan-4-Latihan SKLearn Train Test Split.ipynb",
      "provenance": [],
      "collapsed_sections": []
    },
    "kernelspec": {
      "name": "python3",
      "display_name": "Python 3"
    },
    "language_info": {
      "name": "python"
    }
  },
  "cells": [
    {
      "cell_type": "markdown",
      "metadata": {
        "id": "EB0X8exK_tKy"
      },
      "source": [
        "# **Latihan SKLearn Train Test Split**"
      ]
    },
    {
      "cell_type": "code",
      "metadata": {
        "id": "HI1n91bd_01m"
      },
      "source": [
        "#import library\n",
        "from sklearn import datasets\n",
        "\n",
        "#load iris dataset\n",
        "iris = datasets.load_iris()"
      ],
      "execution_count": 1,
      "outputs": []
    },
    {
      "cell_type": "code",
      "metadata": {
        "id": "Mrouokf7AOWP"
      },
      "source": [
        "#pisahkan atribut dengan label\n",
        "x = iris.data\n",
        "y = iris.target"
      ],
      "execution_count": 9,
      "outputs": []
    },
    {
      "cell_type": "code",
      "metadata": {
        "id": "uNVkPzluA4Pn"
      },
      "source": [
        "#split datasets\n",
        "from sklearn.model_selection import train_test_split\n",
        "x_train, x_test, y_train, y_test = train_test_split(x, y, test_size=0.2, random_state=2)"
      ],
      "execution_count": 12,
      "outputs": []
    },
    {
      "cell_type": "code",
      "metadata": {
        "colab": {
          "base_uri": "https://localhost:8080/"
        },
        "id": "SusGiJ9bBQSi",
        "outputId": "4e8236b2-66e9-4acf-e41e-b9b0c9d611cf"
      },
      "source": [
        "#cek brpa banyak x_train\n",
        "len(x_train)"
      ],
      "execution_count": 15,
      "outputs": [
        {
          "output_type": "execute_result",
          "data": {
            "text/plain": [
              "120"
            ]
          },
          "metadata": {
            "tags": []
          },
          "execution_count": 15
        }
      ]
    }
  ]
}