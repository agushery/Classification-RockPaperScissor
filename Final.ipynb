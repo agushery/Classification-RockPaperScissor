{
  "nbformat": 4,
  "nbformat_minor": 0,
  "metadata": {
    "colab": {
      "name": "Final.ipynb",
      "provenance": [],
      "collapsed_sections": []
    },
    "kernelspec": {
      "name": "python3",
      "display_name": "Python 3"
    },
    "language_info": {
      "name": "python"
    },
    "accelerator": "GPU"
  },
  "cells": [
    {
      "cell_type": "markdown",
      "metadata": {
        "id": "Yn7ijADzTN57"
      },
      "source": [
        "# **Proyek Akhir : Klasifikasi Gambar**"
      ]
    },
    {
      "cell_type": "markdown",
      "metadata": {
        "id": "M2YeoSA6TbB0"
      },
      "source": [
        "## **DATA DIRI**\n",
        "\n",
        "*   Nama: Agus Hery\n",
        "*   Domisili : Bali\n",
        "*   This projeck used GPU Hardware Accelerator\n",
        "*   Accuracy above 99% and Validation Accuracy above 97%\n"
      ]
    },
    {
      "cell_type": "markdown",
      "metadata": {
        "id": "IB0qnE_5Uzfu"
      },
      "source": [
        "### **Import Library for Extracing and Set Data Location**"
      ]
    },
    {
      "cell_type": "code",
      "metadata": {
        "id": "CVudUJ_oVqZC",
        "colab": {
          "base_uri": "https://localhost:8080/"
        },
        "outputId": "ce5c6f7c-16fb-4a5a-a471-cb911a9e3718"
      },
      "source": [
        "# import library\n",
        "import zipfile\n",
        "import os\n",
        "import glob \n",
        "import shutil\n",
        "print('Setup Complete')"
      ],
      "execution_count": 1,
      "outputs": [
        {
          "output_type": "stream",
          "text": [
            "Setup Complete\n"
          ],
          "name": "stdout"
        }
      ]
    },
    {
      "cell_type": "markdown",
      "metadata": {
        "id": "dDHgHWrOWqMw"
      },
      "source": [
        "### **Import Library for Machine Learning and TensorFlow**"
      ]
    },
    {
      "cell_type": "code",
      "metadata": {
        "id": "C4iN7jHWWn3l",
        "colab": {
          "base_uri": "https://localhost:8080/"
        },
        "outputId": "04ea9dd6-0ab9-4cf6-dbd9-ed990736a294"
      },
      "source": [
        "import tensorflow as tf\n",
        "from tensorflow.keras.optimizers import RMSprop\n",
        "from tensorflow.keras.preprocessing.image import ImageDataGenerator\n",
        "from sklearn.model_selection import train_test_split\n",
        "from google.colab import files\n",
        "from keras.preprocessing import image\n",
        "import numpy as np\n",
        "print('Setup Complete')"
      ],
      "execution_count": 2,
      "outputs": [
        {
          "output_type": "stream",
          "text": [
            "Setup Complete\n"
          ],
          "name": "stdout"
        }
      ]
    },
    {
      "cell_type": "markdown",
      "metadata": {
        "id": "wE-MsLDMYe-O"
      },
      "source": [
        "### ***Import Library for Data Visualization***"
      ]
    },
    {
      "cell_type": "code",
      "metadata": {
        "id": "qSM_9X_jTaCp",
        "colab": {
          "base_uri": "https://localhost:8080/"
        },
        "outputId": "5ec2c971-8076-4ada-994e-89d713a1919c"
      },
      "source": [
        "%matplotlib inline\n",
        "import matplotlib\n",
        "import matplotlib.pyplot as plt\n",
        "import seaborn as sns\n",
        "print('Setup Complete')"
      ],
      "execution_count": 3,
      "outputs": [
        {
          "output_type": "stream",
          "text": [
            "Setup Complete\n"
          ],
          "name": "stdout"
        }
      ]
    },
    {
      "cell_type": "markdown",
      "metadata": {
        "id": "0sJ5uSZXTL1z"
      },
      "source": [
        "### ***Get dataset from wget***"
      ]
    },
    {
      "cell_type": "code",
      "metadata": {
        "id": "xSw3ZsyJVm0_",
        "colab": {
          "base_uri": "https://localhost:8080/"
        },
        "outputId": "9a7fbcb1-ba67-497a-cd29-bda5b9f2e026"
      },
      "source": [
        "!wget --no-check-certificate \\\n",
        "  https://dicodingacademy.blob.core.windows.net/picodiploma/ml_pemula_academy/rockpaperscissors.zip \\\n",
        "  -O /tmp/rockpaperscissors.zip"
      ],
      "execution_count": 4,
      "outputs": [
        {
          "output_type": "stream",
          "text": [
            "--2021-05-14 08:09:06--  https://dicodingacademy.blob.core.windows.net/picodiploma/ml_pemula_academy/rockpaperscissors.zip\n",
            "Resolving dicodingacademy.blob.core.windows.net (dicodingacademy.blob.core.windows.net)... 52.239.197.36\n",
            "Connecting to dicodingacademy.blob.core.windows.net (dicodingacademy.blob.core.windows.net)|52.239.197.36|:443... connected.\n",
            "HTTP request sent, awaiting response... 200 OK\n",
            "Length: 322873683 (308M) [application/zip]\n",
            "Saving to: ‘/tmp/rockpaperscissors.zip’\n",
            "\n",
            "/tmp/rockpapersciss 100%[===================>] 307.92M  1.34MB/s    in 5m 5s   \n",
            "\n",
            "2021-05-14 08:14:12 (1.01 MB/s) - ‘/tmp/rockpaperscissors.zip’ saved [322873683/322873683]\n",
            "\n"
          ],
          "name": "stdout"
        }
      ]
    },
    {
      "cell_type": "markdown",
      "metadata": {
        "id": "QUSTOjelYWFF"
      },
      "source": [
        "### ***Setup file***"
      ]
    },
    {
      "cell_type": "code",
      "metadata": {
        "id": "LeB5wNUgV_hK"
      },
      "source": [
        "# Extrac zip file\n",
        "local_zip = '/tmp/rockpaperscissors.zip'\n",
        "zip_ref = zipfile.ZipFile(local_zip, 'r')\n",
        "zip_ref.extractall('/tmp')\n",
        "zip_ref.close()"
      ],
      "execution_count": 5,
      "outputs": []
    },
    {
      "cell_type": "code",
      "metadata": {
        "id": "dsp__2R_lQ6k"
      },
      "source": [
        "# Intiating and create folder for ALL training(X) and Validation (y) \n",
        "main = '/tmp/rockpaperscissors/rps-cv-images'\n",
        "\n",
        "# Train(X)\n",
        "X_dir = os.path.join(main, 'X')\n",
        "os.mkdir(X_dir)\n",
        "\n",
        "# Validation\n",
        "y_dir = os.path.join(main, 'y')\n",
        "os.mkdir(y_dir)"
      ],
      "execution_count": 6,
      "outputs": []
    },
    {
      "cell_type": "markdown",
      "metadata": {
        "id": "msxh_v9aqG_q"
      },
      "source": [
        "### **Split file dataset to Train (X) for 60% and Validation (y) for 40%**"
      ]
    },
    {
      "cell_type": "code",
      "metadata": {
        "id": "pPI91Bv1qTIN"
      },
      "source": [
        "# Split dataset\n",
        "rock_dir = os.path.join(main,'rock')\n",
        "paper_dir = os.path.join(main, 'paper')\n",
        "scissors_dir = os.path.join(main, 'scissors')\n",
        "X_rock_file, y_rock_file = train_test_split(os.listdir(rock_dir), test_size=0.4, random_state=50)\n",
        "X_paper_file, y_paper_file = train_test_split(os.listdir(paper_dir), test_size=0.4, random_state=50)\n",
        "X_scissors_file, y_scissors_file = train_test_split(os.listdir(scissors_dir), test_size=0.4, random_state=50)"
      ],
      "execution_count": 7,
      "outputs": []
    },
    {
      "cell_type": "code",
      "metadata": {
        "id": "SW9JsJyAmvHQ"
      },
      "source": [
        "# Initiating and Create folder for X and y dataset each category\n",
        "\n",
        "# Rock\n",
        "X_rock = os.path.join(X_dir, 'rock')\n",
        "y_rock = os.path.join(y_dir, 'rock')\n",
        "os.mkdir(X_rock)\n",
        "os.mkdir(y_rock)\n",
        "\n",
        "# Paper\n",
        "X_paper = os.path.join(X_dir, 'paper')\n",
        "y_paper = os.path.join(y_dir, 'paper')\n",
        "os.mkdir(X_paper)\n",
        "os.mkdir(y_paper)\n",
        "\n",
        "# Scissor\n",
        "X_scissors = os.path.join(X_dir, 'scissors')\n",
        "y_scissors = os.path.join(y_dir, 'scissors')\n",
        "os.mkdir(X_scissors)\n",
        "os.mkdir(y_scissors)"
      ],
      "execution_count": 8,
      "outputs": []
    },
    {
      "cell_type": "code",
      "metadata": {
        "id": "G7l7Q2AErZmA"
      },
      "source": [
        "# insert result split dataset into Train and Validation each category\n",
        "# ROCK\n",
        "for i in X_rock_file:\n",
        "  shutil.copy(os.path.join(rock_dir, i), os.path.join(X_rock, i))\n",
        "for i in y_rock_file:\n",
        "  shutil.copy(os.path.join(rock_dir, i), os.path.join(y_rock, i))\n",
        "\n",
        "# PAPER\n",
        "for i in X_paper_file:\n",
        "  shutil.copy(os.path.join(paper_dir, i), os.path.join(X_paper, i))\n",
        "for i in y_paper_file:\n",
        "  shutil.copy(os.path.join(paper_dir, i), os.path.join(y_paper, i))\n",
        "\n",
        "# SCISSORS\n",
        "for i in X_scissors_file:\n",
        "  shutil.copy(os.path.join(scissors_dir, i), os.path.join(X_scissors, i))\n",
        "for i in y_scissors_file:\n",
        "  shutil.copy(os.path.join(scissors_dir, i), os.path.join(y_scissors, i))"
      ],
      "execution_count": 9,
      "outputs": []
    },
    {
      "cell_type": "markdown",
      "metadata": {
        "id": "5cX_ksr_zKSr"
      },
      "source": [
        "### **Image Augmentation**"
      ]
    },
    {
      "cell_type": "code",
      "metadata": {
        "id": "RQRkuogk1due",
        "colab": {
          "base_uri": "https://localhost:8080/"
        },
        "outputId": "9f8c3620-56c7-4f24-e65f-76adb0e5607d"
      },
      "source": [
        "X_datagen = ImageDataGenerator(\n",
        "    rotation_range = 30,\n",
        "    rescale = 1./255,\n",
        "    horizontal_flip = True,\n",
        "    shear_range = 0.2,\n",
        "    fill_mode = 'constant',\n",
        ")\n",
        "y_datagen = ImageDataGenerator(\n",
        "    rotation_range = 30,\n",
        "    rescale = 1./225,\n",
        "    horizontal_flip = True,\n",
        "    shear_range = 0.2,\n",
        "    fill_mode = 'constant'\n",
        ")\n",
        " \n",
        " \n",
        "X_generator = X_datagen.flow_from_directory(\n",
        "    X_dir,\n",
        "    target_size=(100,100),\n",
        "    batch_size= 32,\n",
        "    class_mode='categorical'\n",
        ")\n",
        " \n",
        "y_generator = y_datagen.flow_from_directory(\n",
        "    y_dir,\n",
        "    target_size = (100,100),\n",
        "    batch_size = 32,\n",
        "    class_mode = 'categorical'\n",
        ")"
      ],
      "execution_count": 10,
      "outputs": [
        {
          "output_type": "stream",
          "text": [
            "Found 1312 images belonging to 3 classes.\n",
            "Found 876 images belonging to 3 classes.\n"
          ],
          "name": "stdout"
        }
      ]
    },
    {
      "cell_type": "markdown",
      "metadata": {
        "id": "dcNJ_Z2a0R1-"
      },
      "source": [
        "### **Architecture CNN**"
      ]
    },
    {
      "cell_type": "code",
      "metadata": {
        "id": "An9OleG-wz-U",
        "colab": {
          "base_uri": "https://localhost:8080/"
        },
        "outputId": "ab7819a5-47b6-4127-c593-96f8807b894a"
      },
      "source": [
        "model = tf.keras.models.Sequential([\n",
        "  tf.keras.layers.Conv2D(32, (3,3), activation = 'relu', input_shape= (100,100,3)),\n",
        "  tf.keras.layers.MaxPooling2D(2,2),\n",
        "  tf.keras.layers.Conv2D(64,(3,3), activation= 'relu'),\n",
        "  tf.keras.layers.MaxPooling2D(2,2),\n",
        "  tf.keras.layers.Conv2D(128,(3,3), activation= 'relu'),\n",
        "  tf.keras.layers.MaxPooling2D(2,2),\n",
        "  tf.keras.layers.Flatten(),\n",
        "  tf.keras.layers.Dropout(0.5),\n",
        "  tf.keras.layers.Dense(512, activation= 'relu'),\n",
        "  tf.keras.layers.Dense(64, activation= 'relu'),\n",
        "  tf.keras.layers.Dense(3, activation= 'softmax')\n",
        "])\n",
        "\n",
        "model.summary()\n",
        "model.compile(loss='categorical_crossentropy',\n",
        "              optimizer=tf.optimizers.Adam(),\n",
        "              metrics=['accuracy'])"
      ],
      "execution_count": 11,
      "outputs": [
        {
          "output_type": "stream",
          "text": [
            "Model: \"sequential\"\n",
            "_________________________________________________________________\n",
            "Layer (type)                 Output Shape              Param #   \n",
            "=================================================================\n",
            "conv2d (Conv2D)              (None, 98, 98, 32)        896       \n",
            "_________________________________________________________________\n",
            "max_pooling2d (MaxPooling2D) (None, 49, 49, 32)        0         \n",
            "_________________________________________________________________\n",
            "conv2d_1 (Conv2D)            (None, 47, 47, 64)        18496     \n",
            "_________________________________________________________________\n",
            "max_pooling2d_1 (MaxPooling2 (None, 23, 23, 64)        0         \n",
            "_________________________________________________________________\n",
            "conv2d_2 (Conv2D)            (None, 21, 21, 128)       73856     \n",
            "_________________________________________________________________\n",
            "max_pooling2d_2 (MaxPooling2 (None, 10, 10, 128)       0         \n",
            "_________________________________________________________________\n",
            "flatten (Flatten)            (None, 12800)             0         \n",
            "_________________________________________________________________\n",
            "dropout (Dropout)            (None, 12800)             0         \n",
            "_________________________________________________________________\n",
            "dense (Dense)                (None, 512)               6554112   \n",
            "_________________________________________________________________\n",
            "dense_1 (Dense)              (None, 64)                32832     \n",
            "_________________________________________________________________\n",
            "dense_2 (Dense)              (None, 3)                 195       \n",
            "=================================================================\n",
            "Total params: 6,680,387\n",
            "Trainable params: 6,680,387\n",
            "Non-trainable params: 0\n",
            "_________________________________________________________________\n"
          ],
          "name": "stdout"
        }
      ]
    },
    {
      "cell_type": "markdown",
      "metadata": {
        "id": "JAwxsByO0g5A"
      },
      "source": [
        "### **Train Data**"
      ]
    },
    {
      "cell_type": "markdown",
      "metadata": {
        "id": "wixwcvSO04Cs"
      },
      "source": [
        "Create class callback for prevent overfitting and stop training once accuracy is met\n",
        "\n"
      ]
    },
    {
      "cell_type": "code",
      "metadata": {
        "id": "Xmux6bmI0n73"
      },
      "source": [
        "class callBack(tf.keras.callbacks.Callback):\n",
        "  def on_epoch_end(self, epoch, logs={}):\n",
        "    if(logs.get('accuracy') > 0.99 and logs.get('val_accuracy') > 0.97):\n",
        "      print(\"\\nstop training, accuracy above 99%\")\n",
        "      self.model.stop_training = True\n",
        "\n",
        "stop = callBack()"
      ],
      "execution_count": 12,
      "outputs": []
    },
    {
      "cell_type": "code",
      "metadata": {
        "id": "qZVfmCEj1jM6",
        "colab": {
          "base_uri": "https://localhost:8080/"
        },
        "outputId": "7a38a729-6060-4a7b-f6c0-3edc166a5940"
      },
      "source": [
        "with tf.device(\"/device:GPU:0\"):\n",
        "  history = model.fit(\n",
        "      X_generator,\n",
        "      steps_per_epoch = 41, \n",
        "      epochs = 30,\n",
        "      validation_data = y_generator,\n",
        "      validation_steps = 21,\n",
        "      verbose =2,\n",
        "        callbacks=[stop]\n",
        "      )"
      ],
      "execution_count": 13,
      "outputs": [
        {
          "output_type": "stream",
          "text": [
            "Epoch 1/30\n",
            "41/41 - 40s - loss: 1.0502 - accuracy: 0.4566 - val_loss: 0.9391 - val_accuracy: 0.6786\n",
            "Epoch 2/30\n",
            "41/41 - 8s - loss: 0.6715 - accuracy: 0.7576 - val_loss: 0.6284 - val_accuracy: 0.6964\n",
            "Epoch 3/30\n",
            "41/41 - 8s - loss: 0.3557 - accuracy: 0.8758 - val_loss: 0.2208 - val_accuracy: 0.9182\n",
            "Epoch 4/30\n",
            "41/41 - 8s - loss: 0.2835 - accuracy: 0.8941 - val_loss: 0.2898 - val_accuracy: 0.8988\n",
            "Epoch 5/30\n",
            "41/41 - 8s - loss: 0.2419 - accuracy: 0.9024 - val_loss: 0.1980 - val_accuracy: 0.9167\n",
            "Epoch 6/30\n",
            "41/41 - 7s - loss: 0.1869 - accuracy: 0.9337 - val_loss: 0.1599 - val_accuracy: 0.9449\n",
            "Epoch 7/30\n",
            "41/41 - 7s - loss: 0.1597 - accuracy: 0.9405 - val_loss: 0.1275 - val_accuracy: 0.9524\n",
            "Epoch 8/30\n",
            "41/41 - 7s - loss: 0.1197 - accuracy: 0.9573 - val_loss: 0.2958 - val_accuracy: 0.8943\n",
            "Epoch 9/30\n",
            "41/41 - 8s - loss: 0.2136 - accuracy: 0.9245 - val_loss: 0.2030 - val_accuracy: 0.9286\n",
            "Epoch 10/30\n",
            "41/41 - 7s - loss: 0.1081 - accuracy: 0.9657 - val_loss: 0.0979 - val_accuracy: 0.9747\n",
            "Epoch 11/30\n",
            "41/41 - 7s - loss: 0.1448 - accuracy: 0.9466 - val_loss: 0.0856 - val_accuracy: 0.9732\n",
            "Epoch 12/30\n",
            "41/41 - 8s - loss: 0.0708 - accuracy: 0.9733 - val_loss: 0.0667 - val_accuracy: 0.9792\n",
            "Epoch 13/30\n",
            "41/41 - 7s - loss: 0.0783 - accuracy: 0.9718 - val_loss: 0.0884 - val_accuracy: 0.9688\n",
            "Epoch 14/30\n",
            "41/41 - 8s - loss: 0.0654 - accuracy: 0.9794 - val_loss: 0.1210 - val_accuracy: 0.9539\n",
            "Epoch 15/30\n",
            "41/41 - 8s - loss: 0.0750 - accuracy: 0.9756 - val_loss: 0.0876 - val_accuracy: 0.9747\n",
            "Epoch 16/30\n",
            "41/41 - 8s - loss: 0.0539 - accuracy: 0.9832 - val_loss: 0.1372 - val_accuracy: 0.9509\n",
            "Epoch 17/30\n",
            "41/41 - 8s - loss: 0.0585 - accuracy: 0.9794 - val_loss: 0.1081 - val_accuracy: 0.9673\n",
            "Epoch 18/30\n",
            "41/41 - 7s - loss: 0.0722 - accuracy: 0.9733 - val_loss: 0.0893 - val_accuracy: 0.9732\n",
            "Epoch 19/30\n",
            "41/41 - 8s - loss: 0.0531 - accuracy: 0.9825 - val_loss: 0.1422 - val_accuracy: 0.9613\n",
            "Epoch 20/30\n",
            "41/41 - 8s - loss: 0.0425 - accuracy: 0.9840 - val_loss: 0.0670 - val_accuracy: 0.9821\n",
            "Epoch 21/30\n",
            "41/41 - 8s - loss: 0.1032 - accuracy: 0.9634 - val_loss: 0.1459 - val_accuracy: 0.9568\n",
            "Epoch 22/30\n",
            "41/41 - 8s - loss: 0.0499 - accuracy: 0.9817 - val_loss: 0.0901 - val_accuracy: 0.9732\n",
            "Epoch 23/30\n",
            "41/41 - 8s - loss: 0.0328 - accuracy: 0.9916 - val_loss: 0.0760 - val_accuracy: 0.9762\n",
            "\n",
            "stop training, accuracy above 99%\n"
          ],
          "name": "stdout"
        }
      ]
    },
    {
      "cell_type": "markdown",
      "metadata": {
        "id": "Vwgz-AJa_MMn"
      },
      "source": [
        "### **Training Visualizaton**\n"
      ]
    },
    {
      "cell_type": "code",
      "metadata": {
        "colab": {
          "base_uri": "https://localhost:8080/",
          "height": 295
        },
        "id": "2s7NwgDLZ5MN",
        "outputId": "dca7b72d-4bea-4c55-caa9-a68138da5d8b"
      },
      "source": [
        "#Accuracy\n",
        "plt.subplot(1,2,1)\n",
        "sns.lineplot(\n",
        "    x=history.epoch,\n",
        "    y=history.history['accuracy'],\n",
        "    label='Train Accuracy'\n",
        ")\n",
        "sns.lineplot(\n",
        "    x=history.epoch,\n",
        "    y=history.history['val_accuracy'],\n",
        "    label='Validation Accuracy'\n",
        ")\n",
        "plt.xlabel('Epochs')\n",
        "plt.ylabel('Value')\n",
        "plt.title('Train VS Validation Accuracy')\n",
        "plt.grid()\n",
        "\n",
        "plt.subplot(1,2,2)\n",
        "sns.lineplot(\n",
        "    x=history.epoch,\n",
        "    y=history.history['loss'],\n",
        "    label='Train Loss'\n",
        ")\n",
        "sns.lineplot(\n",
        "    x=history.epoch,\n",
        "    y=history.history['val_loss'],\n",
        "    label='Validation Loss'\n",
        ")\n",
        "plt.xlabel('Epochs')\n",
        "plt.ylabel('Value')\n",
        "plt.title('Train VS Validation Loss')\n",
        "plt.grid()"
      ],
      "execution_count": 14,
      "outputs": [
        {
          "output_type": "display_data",
          "data": {
            "image/png": "[encoded data removed]",
            "text/plain": [
              "<Figure size 432x288 with 2 Axes>"
            ]
          },
          "metadata": {
            "tags": [],
            "needs_background": "light"
          }
        }
      ]
    },
    {
      "cell_type": "markdown",
      "metadata": {
        "id": "klwJxz8KxmLo"
      },
      "source": [
        "### **Predict Image**"
      ]
    },
    {
      "cell_type": "code",
      "metadata": {
        "id": "UgaYpR23B8ZG",
        "colab": {
          "resources": {
            "http://localhost:8080/nbextensions/google.colab/files.js": {
              "data": "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",
              "ok": true,
              "headers": [
                [
                  "content-type",
                  "application/javascript"
                ]
              ],
              "status": 200,
              "status_text": ""
            }
          },
          "base_uri": "https://localhost:8080/",
          "height": 411
        },
        "outputId": "ba302d44-af2e-48a7-fdc5-f6d840d41aed"
      },
      "source": [
        "# Upload File to google colabs\n",
        "uploaded = files.upload()\n",
        "\n",
        "for file_upload in uploaded.keys():\n",
        "\n",
        "  path = file_upload\n",
        "  img = image.load_img(path, target_size=(100,100))\n",
        "  imgplot = plt.imshow(img)\n",
        "  x = image.img_to_array(img)\n",
        "  x = np.expand_dims(x, axis=0)\n",
        "\n",
        "  images = np.vstack([x])\n",
        "  classes = model.predict(images, batch_size=32)\n",
        "  \n",
        "  print(\"\\n\")\n",
        "  print('Prediction Result : ',classes[0],'\\n')\n",
        "\n",
        "  if classes[0][0] == 1:\n",
        "    print('Category : Paper')\n",
        "  elif classes[0][1] == 1:\n",
        "    print('Category : Rock')\n",
        "  else:\n",
        "    print('Category : Scissor')"
      ],
      "execution_count": 16,
      "outputs": [
        {
          "output_type": "display_data",
          "data": {
            "text/html": [
              "\n",
              "     <input type=\"file\" id=\"files-dce32675-fa54-4387-87e7-bd250b0f15d3\" name=\"files[]\" multiple disabled\n",
              "        style=\"border:none\" />\n",
              "     <output id=\"result-dce32675-fa54-4387-87e7-bd250b0f15d3\">\n",
              "      Upload widget is only available when the cell has been executed in the\n",
              "      current browser session. Please rerun this cell to enable.\n",
              "      </output>\n",
              "      <script src=\"/nbextensions/google.colab/files.js\"></script> "
            ],
            "text/plain": [
              "<IPython.core.display.HTML object>"
            ]
          },
          "metadata": {
            "tags": []
          }
        },
        {
          "output_type": "stream",
          "text": [
            "Saving 04l5I8TqdzF9WDMJ.png to 04l5I8TqdzF9WDMJ (1).png\n",
            "\n",
            "\n",
            "Prediction Result :  [1. 0. 0.] \n",
            "\n",
            "Category : Paper\n"
          ],
          "name": "stdout"
        },
        {
          "output_type": "display_data",
          "data": {
            "image/png": "[encoded data removed]",
            "text/plain": [
              "<Figure size 432x288 with 1 Axes>"
            ]
          },
          "metadata": {
            "tags": [],
            "needs_background": "light"
          }
        }
      ]
    }
  ]
}